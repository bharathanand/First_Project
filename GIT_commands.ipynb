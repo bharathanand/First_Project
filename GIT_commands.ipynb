{
 "cells": [
  {
   "cell_type": "code",
   "execution_count": 0,
   "metadata": {
    "application/vnd.databricks.v1+cell": {
     "cellMetadata": {},
     "inputWidgets": {},
     "nuid": "b166322f-ac61-47a2-818a-a7349a49f5e0",
     "showTitle": false,
     "tableResultSettingsMap": {},
     "title": ""
    }
   },
   "outputs": [],
   "source": [
    "Git add .  or Git add file_name   --- to add the files so that are ready to commited. \n",
    "Git commit -m \"first_commit\"   --- To commit the changes\n",
    "Git remote add origin \"url\"    --- Origin is the name which we are giving to that particular Url, with that we can access it.\n",
    "Git push -u origin master ---- origin is the name which we have given to url and we are mentioning that push the changes to master branch.\n",
    "Git push -u origin master ---- origin is the name which we have given to url and we are mentioning that push the changes of master branch. we can push which ever branch we want.\n",
    "\n",
    "Git log  -- to see log of all commits\n",
    "git log --oneline    ( to see allin one line)\n",
    "git branch bug1 213i23f    ( bug1 branch name and id is SHA value from log)\n",
    "git branch    --- to display all branches available.\n",
    "git checkout branch_name   --- will switch to that brnch and changes which are there upto that branch will reflect.\n",
    "git remote -- to check remote name\n",
    "git remote -v    -- will give http link of our remote.\n",
    "\n",
    "git branch branch_name ---- we we don't give any reference it will create bank from current working branch.\n",
    "\n",
    "git merge bug1 ---- it will merge the bug1 branch will current working branch(master or any other current working one), if you are in someother branch first u should checkout with the branch where u want to merge).\n",
    "\n",
    "git branch -d Bug1 -----Command to delete Branch in git\n",
    "git push -d origin Bug1   ---- command to delete branch in remote github.\n",
    "\n",
    "git clone URL   --- to clone the reposity to the local \n",
    "\n",
    "\n",
    "git pull origin master --- to pull the code "
   ]
  }
 ],
 "metadata": {
  "application/vnd.databricks.v1+notebook": {
   "computePreferences": null,
   "dashboards": [],
   "environmentMetadata": {
    "base_environment": "",
    "environment_version": "2"
   },
   "inputWidgetPreferences": null,
   "language": "python",
   "notebookMetadata": {
    "pythonIndentUnit": 4
   },
   "notebookName": "GIT_commands",
   "widgets": {}
  },
  "language_info": {
   "name": "python"
  }
 },
 "nbformat": 4,
 "nbformat_minor": 0
}
